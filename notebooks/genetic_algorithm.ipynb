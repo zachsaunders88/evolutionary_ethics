{
 "cells": [
  {
   "cell_type": "code",
   "execution_count": 1,
   "id": "98c2b49e-8b7b-4b41-b5da-6f02f100039a",
   "metadata": {},
   "outputs": [],
   "source": [
    "import os\n",
    "os.environ[\"SWI_HOME_DIR\"] = os.path.expanduser(\"~/.local/swipl/lib/swipl\")\n",
    "os.environ[\"LD_LIBRARY_PATH\"] = os.path.expanduser(\"~/.local/swipl/lib/swipl/lib/x86_64-linux\")\n",
    "os.environ[\"PATH\"] = os.path.expanduser(\"~/.local/swipl/bin\") + \":\" + os.environ[\"PATH\"]\n",
    "\n",
    "from pyswip import Prolog\n",
    "from pathlib import Path\n",
    "from deap import base, creator, tools, algorithms\n",
    "import numpy as np\n",
    "import deap \n",
    "import random\n"
   ]
  },
  {
   "cell_type": "code",
   "execution_count": 2,
   "id": "7379a0a9-85cb-43e9-a59d-e0e5d163a497",
   "metadata": {},
   "outputs": [
    {
     "name": "stdout",
     "output_type": "stream",
     "text": [
      "Action: return_wallet\n",
      "Justification: Action return_wallet justified by self_interest ethics based on scenario context: return_wallet.\n",
      "Score: 0.020000000000000004\n"
     ]
    }
   ],
   "source": [
    "base_dir = Path('../symbolic_reasoning_sys')\n",
    "PROLOG_FILE = base_dir / \"ethics_engine_final.pl\"\n",
    "prolog = Prolog()\n",
    "prolog.consult(PROLOG_FILE)\n",
    "\n",
    "# Call the main decision function\n",
    "query = list(prolog.query(\"make_decision(dropped_wallet_1, Action, Justification, Score)\"))\n",
    "for result in query:\n",
    "    print(f\"Action: {result['Action']}\")\n",
    "    print(f\"Justification: {result['Justification']}\")\n",
    "    print(f\"Score: {result['Score']}\")"
   ]
  },
  {
   "cell_type": "code",
   "execution_count": 3,
   "id": "a53b72f9-ba87-4e8e-9fb0-1fe6faaaca7e",
   "metadata": {},
   "outputs": [],
   "source": [
    "GROUND_TRUTH = {\n",
    "    'dropped_wallet_1': 'return_wallet',\n",
    "    'dropped_wallet_2': 'return_wallet', \n",
    "    'dropped_wallet_3': 'return_wallet',\n",
    "    'dropped_wallet_4': 'leave_wallet',\n",
    "    'dropped_wallet_5': 'return_wallet',\n",
    "    'dropped_wallet_6': 'take_wallet',\n",
    "    'dropped_wallet_7': 'leave_wallet',\n",
    "    'dropped_wallet_8': 'take_wallet',\n",
    "}"
   ]
  },
  {
   "cell_type": "code",
   "execution_count": 4,
   "id": "d3a27e3e-6b06-4e94-9091-9f2548343ef8",
   "metadata": {},
   "outputs": [],
   "source": [
    "def update_weights_in_file(weights):\n",
    "    \"\"\"\n",
    "    Overwrite weight/2 facts in the Prolog file with new values.\n",
    "    weights is a list or array: [w_utilitarian, w_deontological, w_self_interest]\n",
    "    \"\"\"\n",
    "    with open(PROLOG_FILE, \"r\") as f:\n",
    "        lines = f.readlines()\n",
    "\n",
    "    new_lines = []\n",
    "    for line in lines:\n",
    "        if line.strip().startswith(\"weight(utilitarian\"):\n",
    "            new_lines.append(f\"weight(utilitarian, {weights[0]:.3f}).\\n\")\n",
    "        elif line.strip().startswith(\"weight(deontological\"):\n",
    "            new_lines.append(f\"weight(deontological, {weights[1]:.3f}).\\n\")\n",
    "        elif line.strip().startswith(\"weight(self_interest\"):\n",
    "            new_lines.append(f\"weight(self_interest, {weights[2]:.3f}).\\n\")\n",
    "        else:\n",
    "            new_lines.append(line)\n",
    "\n",
    "    with open(PROLOG_FILE, \"w\") as f:\n",
    "        f.writelines(new_lines)\n",
    "        "
   ]
  },
  {
   "cell_type": "code",
   "execution_count": 5,
   "id": "9e2c7346-134e-40b5-95c5-1cbfb05ae3c2",
   "metadata": {},
   "outputs": [
    {
     "name": "stdout",
     "output_type": "stream",
     "text": [
      "Accuracy for weights [0.33, 0.33, 0.34]: 0.88\n"
     ]
    }
   ],
   "source": [
    "def run_prolog_query(weights):\n",
    "    \"\"\"\n",
    "    Given a weight vector, update Prolog file, reload Prolog engine,\n",
    "    run make_decision for all scenarios and calculate accuracy.\n",
    "    \"\"\"\n",
    "    \n",
    "    weights = np.array(weights)\n",
    "    weights = weights / np.sum(weights) # Normalise weights so they sum to 1\n",
    "\n",
    "    update_weights_in_file(weights)\n",
    "\n",
    "    prolog = Prolog()\n",
    "    prolog.consult(PROLOG_FILE)\n",
    "\n",
    "    correct = 0\n",
    "    total = len(GROUND_TRUTH)\n",
    "\n",
    "    for scenario_name, true_action in GROUND_TRUTH.items():\n",
    "        query = f\"make_decision({scenario_name}, Action, Justification, Score).\"\n",
    "        results = list(prolog.query(query))\n",
    "        if not results:\n",
    "            continue\n",
    "        predicted = results[0][\"Action\"]\n",
    "        if predicted == true_action:\n",
    "            correct += 1\n",
    "\n",
    "    accuracy = correct / total\n",
    "    return (accuracy,)\n",
    "\n",
    "if __name__ == \"__main__\":\n",
    "    test_weights = [0.33, 0.33, 0.34]\n",
    "    acc = run_prolog_query(test_weights)[0]\n",
    "    print(f\"Accuracy for weights {test_weights}: {acc:.2f}\")"
   ]
  },
  {
   "cell_type": "code",
   "execution_count": 6,
   "id": "53cfc0d2-70ac-4198-a3f4-15816dec1d21",
   "metadata": {},
   "outputs": [
    {
     "name": "stdout",
     "output_type": "stream",
     "text": [
      "Start of evolution\n",
      "Gen 1: Best Accuracy = 0.88 | Weights = [0.188 0.148 0.663]\n",
      "Gen 2: Best Accuracy = 0.88 | Weights = [ 0.04  -0.103  1.064]\n",
      "Gen 3: Best Accuracy = 0.88 | Weights = [0.299 0.062 0.639]\n",
      "Gen 4: Best Accuracy = 0.88 | Weights = [0.168 0.029 0.803]\n",
      "Gen 5: Best Accuracy = 0.88 | Weights = [0.171 0.107 0.721]\n",
      "Gen 6: Best Accuracy = 0.88 | Weights = [0.341 0.006 0.652]\n",
      "Gen 7: Best Accuracy = 0.88 | Weights = [-0.619  0.063  1.556]\n",
      "Gen 8: Best Accuracy = 0.88 | Weights = [ 0.162 -0.414  1.252]\n",
      "Gen 9: Best Accuracy = 0.88 | Weights = [0.056 0.291 0.654]\n",
      "Gen 10: Best Accuracy = 0.88 | Weights = [0.146 0.26  0.594]\n",
      "Gen 11: Best Accuracy = 0.88 | Weights = [-0.171  0.203  0.968]\n",
      "Gen 12: Best Accuracy = 0.88 | Weights = [0.007 0.148 0.845]\n",
      "Gen 13: Best Accuracy = 0.88 | Weights = [0.015 0.375 0.61 ]\n",
      "Gen 14: Best Accuracy = 0.88 | Weights = [-2.115 -0.48   3.595]\n",
      "Gen 15: Best Accuracy = 0.88 | Weights = [-0.936 -0.005  1.941]\n",
      "Gen 16: Best Accuracy = 0.88 | Weights = [0.338 0.018 0.644]\n",
      "Gen 17: Best Accuracy = 0.88 | Weights = [ 0.105 -0.333  1.229]\n",
      "Gen 18: Best Accuracy = 0.88 | Weights = [0.033 0.143 0.824]\n",
      "Gen 19: Best Accuracy = 0.88 | Weights = [-0.251  0.03   1.221]\n",
      "Gen 20: Best Accuracy = 0.88 | Weights = [0.086 0.405 0.509]\n",
      "\n",
      "Best individual:\n",
      "Weights: Utilitarian=0.176, Deontological=0.825, Self-interest=1.039\n",
      "Accuracy: 0.875\n",
      "[0.17562032850815448, 0.8250554689041958, 1.0388482289556398]\n",
      "Scenario: dropped_wallet_1, Action: ('return_wallet', 'Action return_wallet justified by self_interest ethics based on scenario context: return_wallet.', 0.23224999999999998), Rules: [{'Sources': []}]\n",
      "Scenario: dropped_wallet_2, Action: ('return_wallet', 'Action return_wallet justified by self_interest ethics based on scenario context: return_wallet.', 0.23224999999999998), Rules: [{'Sources': []}]\n",
      "Scenario: dropped_wallet_3, Action: ('leave_wallet', 'Action leave_wallet justified by self_interest ethics based on scenario context: leave_wallet.', 0.23224999999999998), Rules: [{'Sources': []}]\n",
      "Scenario: dropped_wallet_4, Action: ('leave_wallet', 'Action leave_wallet justified by self_interest ethics based on scenario context: leave_wallet.', 0.23224999999999998), Rules: [{'Sources': []}]\n",
      "Scenario: dropped_wallet_5, Action: ('return_wallet', 'Action return_wallet justified by self_interest ethics based on scenario context: return_wallet.', 0.23224999999999998), Rules: [{'Sources': []}]\n",
      "Scenario: dropped_wallet_6, Action: ('take_wallet', 'Action take_wallet justified by self_interest ethics based on scenario context: take_wallet.', 0.3336666666666666), Rules: [{'Sources': []}]\n",
      "Scenario: dropped_wallet_7, Action: ('leave_wallet', 'Action leave_wallet justified by self_interest ethics based on scenario context: leave_wallet.', 0.3336666666666666), Rules: [{'Sources': []}]\n",
      "Scenario: dropped_wallet_8, Action: ('take_wallet', 'Action take_wallet justified by self_interest ethics based on scenario context: take_wallet.', 0.3336666666666666), Rules: [{'Sources': []}]\n"
     ]
    }
   ],
   "source": [
    "scenario_data = [\n",
    "    (\"dropped_wallet_1\", (\"dropped_wallet\", True, True, \"many_people_around\")),\n",
    "    (\"dropped_wallet_2\", (\"dropped_wallet\", True, True, \"isolated_area\")),\n",
    "    (\"dropped_wallet_3\", (\"dropped_wallet\", True, False, \"many_people_around\")),\n",
    "    (\"dropped_wallet_4\", (\"dropped_wallet\", True, False, \"isolated_area\")),\n",
    "    (\"dropped_wallet_5\", (\"dropped_wallet\", False, True, \"many_people_around\")),\n",
    "    (\"dropped_wallet_6\", (\"dropped_wallet\", False, True, \"isolated_area\")),\n",
    "    (\"dropped_wallet_7\", (\"dropped_wallet\", False, False, \"many_people_around\")),\n",
    "    (\"dropped_wallet_8\", (\"dropped_wallet\", False, False, \"isolated_area\")),\n",
    "]\n",
    "\n",
    "all_scenarios = {name: (event, (owner_nearby, contents_valuable, environment))\n",
    "                 for name, (event, owner_nearby, contents_valuable, environment) in scenario_data}\n",
    "\n",
    "    \n",
    "def predict_action(scenario_name, weights):\n",
    "    update_weights_in_file(weights)\n",
    "    result = list(prolog.query(f\"make_decision({scenario_name}, Action, Justification, Score)\"))\n",
    "    if result:\n",
    "        return result[0]['Action'], result[0]['Justification'], result[0]['Score']\n",
    "    else:\n",
    "        return None, None, None\n",
    "        \n",
    "# === DEAP SETUP ===\n",
    "\n",
    "if not hasattr(creator, \"FitnessMax\"):\n",
    "    creator.create(\"FitnessMax\", base.Fitness, weights=(1.0,))\n",
    "if not hasattr(creator, \"Individual\"):\n",
    "    creator.create(\"Individual\", list, fitness=creator.FitnessMax)\n",
    "\n",
    "toolbox = base.Toolbox()\n",
    "\n",
    "toolbox.register(\"attr_float\", random.uniform, 0, 1) # Individuals are 3 floating-point numbers between 0 and 1\n",
    "toolbox.register(\"individual\", tools.initRepeat, creator.Individual, toolbox.attr_float, 3)\n",
    "toolbox.register(\"population\", tools.initRepeat, list, toolbox.individual)\n",
    "\n",
    "# Genetic operators\n",
    "toolbox.register(\"evaluate\", run_prolog_query)\n",
    "toolbox.register(\"mate\", tools.cxBlend, alpha=0.5)\n",
    "toolbox.register(\"mutate\", tools.mutGaussian, mu=0, sigma=0.2, indpb=0.5)\n",
    "toolbox.register(\"select\", tools.selTournament, tournsize=3)\n",
    "\n",
    "def main():\n",
    "    random.seed(42)\n",
    "    population = toolbox.population(n=50)\n",
    "    NGEN = 20\n",
    "    CXPB = 0.5  # crossover prob\n",
    "    MUTPB = 0.3  # mutation prob\n",
    "\n",
    "    print(\"Start of evolution\")\n",
    "    fitnesses = list(map(toolbox.evaluate, population))\n",
    "    for ind, fit in zip(population, fitnesses):\n",
    "        ind.fitness.values = fit\n",
    "\n",
    "    for gen in range(1, NGEN + 1):\n",
    "        offspring = toolbox.select(population, len(population))\n",
    "        offspring = list(map(toolbox.clone, offspring))\n",
    "\n",
    "        # Apply crossover and mutation\n",
    "        for child1, child2 in zip(offspring[::2], offspring[1::2]):\n",
    "            if random.random() < CXPB:\n",
    "                toolbox.mate(child1, child2)\n",
    "                del child1.fitness.values, child2.fitness.values\n",
    "\n",
    "        for mutant in offspring:\n",
    "            if random.random() < MUTPB:\n",
    "                toolbox.mutate(mutant)\n",
    "                del mutant.fitness.values\n",
    "\n",
    "        # Evaluate invalid fitnesses\n",
    "        invalid = [ind for ind in offspring if not ind.fitness.valid]\n",
    "        fitnesses = list(map(toolbox.evaluate, invalid))\n",
    "        for ind, fit in zip(invalid, fitnesses):\n",
    "            ind.fitness.values = fit\n",
    "\n",
    "        population[:] = offspring\n",
    "\n",
    "        top = tools.selBest(population, 1)[0]\n",
    "        normalized_weights = np.round(np.array(top) / np.sum(top), 3)\n",
    "        print(f\"Gen {gen}: Best Accuracy = {top.fitness.values[0]:.2f} | Weights = {normalized_weights}\")\n",
    "\n",
    "    best_ind = tools.selBest(population, 1)[0]\n",
    "    print(\"\\nBest individual:\")\n",
    "    print(f\"Weights: Utilitarian={best_ind[0]:.3f}, Deontological={best_ind[1]:.3f}, Self-interest={best_ind[2]:.3f}\")\n",
    "    print(f\"Accuracy: {best_ind.fitness.values[0]:.3f}\")\n",
    "    print(best_ind)\n",
    "    for scenario in all_scenarios:\n",
    "        action = predict_action(scenario, best_ind)\n",
    "        rules = list(prolog.query(f\"rule_sources({scenario}, {action}, Sources).\"))\n",
    "        print(f\"Scenario: {scenario}, Action: {action}, Rules: {rules}\")\n",
    "\n",
    "if __name__ == \"__main__\":\n",
    "    main()"
   ]
  },
  {
   "cell_type": "code",
   "execution_count": 7,
   "id": "92bc4135-641c-416e-89de-e1b26a305905",
   "metadata": {},
   "outputs": [
    {
     "name": "stdout",
     "output_type": "stream",
     "text": [
      "(0.625,)\n",
      "(0.625,)\n",
      "(0.875,)\n"
     ]
    }
   ],
   "source": [
    "print(run_prolog_query([0.8, 0.1, 0.1]))  # Mostly utilitarian\n",
    "print(run_prolog_query([0.1, 0.8, 0.1]))  # Mostly deontological\n",
    "print(run_prolog_query([0.1, 0.1, 0.8]))  # Mostly self-interest\n"
   ]
  },
  {
   "cell_type": "code",
   "execution_count": 8,
   "id": "7b713a52-2236-4a06-96b0-bdce39363f42",
   "metadata": {},
   "outputs": [
    {
     "data": {
      "text/plain": [
       "0.875"
      ]
     },
     "execution_count": 8,
     "metadata": {},
     "output_type": "execute_result"
    }
   ],
   "source": [
    "7/8"
   ]
  }
 ],
 "metadata": {
  "kernelspec": {
   "display_name": "evolutionary-ethics",
   "language": "python",
   "name": "evolutionary-ethics"
  },
  "language_info": {
   "codemirror_mode": {
    "name": "ipython",
    "version": 3
   },
   "file_extension": ".py",
   "mimetype": "text/x-python",
   "name": "python",
   "nbconvert_exporter": "python",
   "pygments_lexer": "ipython3",
   "version": "3.10.9"
  }
 },
 "nbformat": 4,
 "nbformat_minor": 5
}
